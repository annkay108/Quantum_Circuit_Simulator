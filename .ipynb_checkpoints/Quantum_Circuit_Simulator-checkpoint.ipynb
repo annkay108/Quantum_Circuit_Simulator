{
 "cells": [
  {
   "cell_type": "code",
   "execution_count": 2,
   "metadata": {},
   "outputs": [],
   "source": [
    "import numpy as np\n",
    "from math import pi, sqrt "
   ]
  },
  {
   "cell_type": "code",
   "execution_count": 3,
   "metadata": {},
   "outputs": [
    {
     "name": "stdout",
     "output_type": "stream",
     "text": [
      "1\n"
     ]
    }
   ],
   "source": [
    "# check if the qbit is valid :Todo\n",
    "q0 = np.array([0,1])\n",
    "q1 = np.array([1/sqrt(2),1/sqrt(2)])\n",
    "p1 = np.abs(q1)**2\n",
    "print(int(round(p1.sum(),5)))"
   ]
  },
  {
   "cell_type": "code",
   "execution_count": 4,
   "metadata": {},
   "outputs": [
    {
     "name": "stdout",
     "output_type": "stream",
     "text": [
      "[0.         0.         0.70710678 0.70710678]\n"
     ]
    }
   ],
   "source": [
    "combined_state = np.kron(q0,q1)\n",
    "print(combined_state)"
   ]
  },
  {
   "cell_type": "code",
   "execution_count": 5,
   "metadata": {},
   "outputs": [
    {
     "name": "stdout",
     "output_type": "stream",
     "text": [
      "Final state:\t [1 0]\n"
     ]
    }
   ],
   "source": [
    "X = np.array([\n",
    "    [0,1],\n",
    "    [1,0]\n",
    "])\n",
    "\n",
    "q0 = np.dot(X,q0)\n",
    "print(\"Final state:\\t\", q0)"
   ]
  },
  {
   "cell_type": "code",
   "execution_count": 6,
   "metadata": {},
   "outputs": [
    {
     "name": "stdout",
     "output_type": "stream",
     "text": [
      "Initial state: [1, 0, 0, 0, 0, 0, 0, 0]\n",
      "\n",
      "Operator:\n",
      "\n",
      " [[0. 1. 0. 0. 0. 0. 0. 0.]\n",
      " [1. 0. 0. 0. 0. 0. 0. 0.]\n",
      " [0. 0. 0. 1. 0. 0. 0. 0.]\n",
      " [0. 0. 1. 0. 0. 0. 0. 0.]\n",
      " [0. 0. 0. 0. 0. 1. 0. 0.]\n",
      " [0. 0. 0. 0. 1. 0. 0. 0.]\n",
      " [0. 0. 0. 0. 0. 0. 0. 1.]\n",
      " [0. 0. 0. 0. 0. 0. 1. 0.]] \n",
      "\n",
      "Final state: [0. 1. 0. 0. 0. 0. 0. 0.]\n"
     ]
    }
   ],
   "source": [
    "psi = [1,0,0,0,0,0,0,0]\n",
    "print(\"Initial state:\", psi)\n",
    "\n",
    "X = np.array([\n",
    "    [0,1],\n",
    "    [1,0]\n",
    "])\n",
    "\n",
    "I = np.identity(2)\n",
    "\n",
    "O = np.kron(np.kron(I, I), X)\n",
    "\n",
    "print(\"\\nOperator:\\n\\n\", O, \"\\n\")\n",
    "\n",
    "psi = np.dot(psi, O)\n",
    "print(\"Final state:\", psi)"
   ]
  },
  {
   "cell_type": "code",
   "execution_count": 7,
   "metadata": {},
   "outputs": [
    {
     "name": "stdout",
     "output_type": "stream",
     "text": [
      "[[1. 0. 0. 0. 0. 0. 0. 0.]\n",
      " [0. 1. 0. 0. 0. 0. 0. 0.]\n",
      " [0. 0. 1. 0. 0. 0. 0. 0.]\n",
      " [0. 0. 0. 1. 0. 0. 0. 0.]\n",
      " [0. 0. 0. 0. 0. 1. 0. 0.]\n",
      " [0. 0. 0. 0. 1. 0. 0. 0.]\n",
      " [0. 0. 0. 0. 0. 0. 0. 1.]\n",
      " [0. 0. 0. 0. 0. 0. 1. 0.]]\n"
     ]
    }
   ],
   "source": [
    "P0x0 = np.array ([\n",
    "    [1,0],\n",
    "    [0,0]\n",
    "])\n",
    "\n",
    "P1x1 = np.array([\n",
    "[0, 0],\n",
    "[0, 1]\n",
    "])\n",
    "\n",
    "O = np.kron(np.kron(P0x0, I), I) + np.kron(np.kron(P1x1, I), X)\n",
    "\n",
    "print(O)"
   ]
  },
  {
   "cell_type": "code",
   "execution_count": 8,
   "metadata": {},
   "outputs": [
    {
     "name": "stdout",
     "output_type": "stream",
     "text": [
      "{0: 4, 1: 96}\n"
     ]
    }
   ],
   "source": [
    "from numpy.random import choice\n",
    "qbit = {\n",
    "    0: 0,\n",
    "    1: 0\n",
    "}\n",
    "for i in range(100):\n",
    "    draw = choice(2,1,p=[0.1,0.9])\n",
    "    if draw[0] == 0:\n",
    "        qbit[0]+=1\n",
    "    else:\n",
    "        qbit[1]+=1\n",
    "print(qbit)"
   ]
  },
  {
   "cell_type": "code",
   "execution_count": 34,
   "metadata": {},
   "outputs": [
    {
     "name": "stdout",
     "output_type": "stream",
     "text": [
      "Invalid gate name\n",
      "None\n",
      "Please enter valid number greater than 0\n"
     ]
    }
   ],
   "source": [
    "def get_ground_state(num_qubits):\n",
    "    # return vector of size 2**num_qubits with all zeroes except first element which is 1\n",
    "    if(num_qubits <=0):\n",
    "        return \"Please enter valid number greater than 0\"\n",
    "    q = [1,0]\n",
    "    for i in range(num_qubits-1):\n",
    "        q = np.kron(q,[1,0])\n",
    "    return q\n",
    "\n",
    "def get_operator(total_qubits, gate_unitary, target_qubits):\n",
    "    # return unitary operator of size 2**n x 2**n for given gate and target qubits\n",
    "    switcher_gate = {\n",
    "        \"x\": x_gate,\n",
    "        \"y\": y_gate,\n",
    "        \"z\": z_gate,\n",
    "        \"h\": hadamard_gate\n",
    "    }\n",
    "    gate_func = switcher_gate.get(gate_unitary, lambda a,b: print(\"Invalid gate name\"))\n",
    "    return gate_func(total_qubits, target_qubits)\n",
    "\n",
    "def set_qubit_gate(single_qubit_gate_operator, target_qubits, total_qubits):\n",
    "    identity = np.identity(2)\n",
    "    qubit_gates = {}\n",
    "    for i in range(total_qubits):\n",
    "        if i == target_qubits[0]:\n",
    "            qubit_gates[i] = single_qubit_gate_operator\n",
    "        else:\n",
    "            qubit_gates[i] = identity\n",
    "    return qubit_gates\n",
    "\n",
    "def x_gate(total_qubits, target_qubits):            \n",
    "    X_operator = np.array([\n",
    "        [0,1],\n",
    "        [1,0]\n",
    "    ])\n",
    "    qubit_gates = set_qubit_gate(X_operator, target_qubits, total_qubits)    \n",
    "    operator = np.array([1])\n",
    "    for j in range(total_qubits):\n",
    "        operator = np.kron(operator,qubit_gates[j])            \n",
    "    return operator\n",
    "\n",
    "def y_gate(total_qubits, target_qubits):\n",
    "    Y_operator = np.array([\n",
    "        [0,0-1.j],\n",
    "        [0+1.j,0]\n",
    "    ])\n",
    "    qubit_gates = set_qubit_gate(Y_operator, target_qubits, total_qubits)    \n",
    "    operator = np.array([1])\n",
    "    for j in range(total_qubits):\n",
    "        operator = np.kron(operator,qubit_gates[j])            \n",
    "    return operator  \n",
    "\n",
    "def z_gate(total_qubits, target_qubits):\n",
    "    Z_operator = np.array([\n",
    "        [1,0],\n",
    "        [0,-1]\n",
    "    ])\n",
    "    qubit_gates = set_qubit_gate(Z_operator, target_qubits, total_qubits)\n",
    "    operator = np.array([1])\n",
    "    for j in range(total_qubits):\n",
    "        operator = np.kron(operator,qubit_gates[j])\n",
    "    return operator\n",
    "\n",
    "def hadamard_gate(total_qubits, target_qubits):\n",
    "    h_operator = np.array([\n",
    "        [1/sqrt(2),1/sqrt(2)],\n",
    "        [1/sqrt(2),-1/sqrt(2)]\n",
    "    ])\n",
    "    qubit_gates = set_qubit_gate(h_operator, target_qubits, total_qubits)    \n",
    "    operator = np.array([1])\n",
    "    for j in range(total_qubits):\n",
    "        operator = np.kron(operator,qubit_gates[j])    \n",
    "    return operator\n",
    "\n",
    "print(get_operator(4,\"h\",[2]))\n",
    "\n",
    "def run_program(initial_state, program):\n",
    "    # read program, and for each gate:\n",
    "    #   - calculate matrix operator\n",
    "    #   - multiply state with operator\n",
    "    # return final state\n",
    "    return\n",
    "print(get_ground_state(-2))"
   ]
  },
  {
   "cell_type": "code",
   "execution_count": null,
   "metadata": {},
   "outputs": [],
   "source": []
  }
 ],
 "metadata": {
  "kernelspec": {
   "display_name": "Python 3",
   "language": "python",
   "name": "python3"
  },
  "language_info": {
   "codemirror_mode": {
    "name": "ipython",
    "version": 3
   },
   "file_extension": ".py",
   "mimetype": "text/x-python",
   "name": "python",
   "nbconvert_exporter": "python",
   "pygments_lexer": "ipython3",
   "version": "3.8.5"
  }
 },
 "nbformat": 4,
 "nbformat_minor": 4
}
