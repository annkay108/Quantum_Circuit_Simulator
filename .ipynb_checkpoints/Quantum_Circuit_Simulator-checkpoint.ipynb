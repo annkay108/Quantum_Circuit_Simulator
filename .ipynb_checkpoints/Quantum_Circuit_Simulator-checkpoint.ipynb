{
 "cells": [
  {
   "cell_type": "code",
   "execution_count": 2,
   "metadata": {},
   "outputs": [],
   "source": [
    "import numpy as np\n",
    "from math import pi, sqrt "
   ]
  },
  {
   "cell_type": "code",
   "execution_count": 3,
   "metadata": {},
   "outputs": [
    {
     "name": "stdout",
     "output_type": "stream",
     "text": [
      "1\n"
     ]
    }
   ],
   "source": [
    "# check if the qbit is valid :Todo\n",
    "q0 = np.array([0,1])\n",
    "q1 = np.array([1/sqrt(2),1/sqrt(2)])\n",
    "p1 = np.abs(q1)**2\n",
    "print(int(round(p1.sum(),5)))"
   ]
  },
  {
   "cell_type": "code",
   "execution_count": 4,
   "metadata": {},
   "outputs": [
    {
     "name": "stdout",
     "output_type": "stream",
     "text": [
      "[0.         0.         0.70710678 0.70710678]\n"
     ]
    }
   ],
   "source": [
    "combined_state = np.kron(q0,q1)\n",
    "print(combined_state)"
   ]
  },
  {
   "cell_type": "code",
   "execution_count": 5,
   "metadata": {},
   "outputs": [
    {
     "name": "stdout",
     "output_type": "stream",
     "text": [
      "Final state:\t [1 0]\n"
     ]
    }
   ],
   "source": [
    "X = np.array([\n",
    "    [0,1],\n",
    "    [1,0]\n",
    "])\n",
    "\n",
    "q0 = np.dot(X,q0)\n",
    "print(\"Final state:\\t\", q0)"
   ]
  },
  {
   "cell_type": "code",
   "execution_count": 6,
   "metadata": {},
   "outputs": [
    {
     "name": "stdout",
     "output_type": "stream",
     "text": [
      "Initial state: [1, 0, 0, 0, 0, 0, 0, 0]\n",
      "\n",
      "Operator:\n",
      "\n",
      " [[0. 1. 0. 0. 0. 0. 0. 0.]\n",
      " [1. 0. 0. 0. 0. 0. 0. 0.]\n",
      " [0. 0. 0. 1. 0. 0. 0. 0.]\n",
      " [0. 0. 1. 0. 0. 0. 0. 0.]\n",
      " [0. 0. 0. 0. 0. 1. 0. 0.]\n",
      " [0. 0. 0. 0. 1. 0. 0. 0.]\n",
      " [0. 0. 0. 0. 0. 0. 0. 1.]\n",
      " [0. 0. 0. 0. 0. 0. 1. 0.]] \n",
      "\n",
      "Final state: [0. 1. 0. 0. 0. 0. 0. 0.]\n"
     ]
    }
   ],
   "source": [
    "psi = [1,0,0,0,0,0,0,0]\n",
    "print(\"Initial state:\", psi)\n",
    "\n",
    "X = np.array([\n",
    "    [0,1],\n",
    "    [1,0]\n",
    "])\n",
    "\n",
    "I = np.identity(2)\n",
    "\n",
    "O = np.kron(np.kron(I, I), X)\n",
    "\n",
    "print(\"\\nOperator:\\n\\n\", O, \"\\n\")\n",
    "\n",
    "psi = np.dot(psi, O)\n",
    "print(\"Final state:\", psi)"
   ]
  },
  {
   "cell_type": "code",
   "execution_count": 7,
   "metadata": {},
   "outputs": [
    {
     "name": "stdout",
     "output_type": "stream",
     "text": [
      "[[1. 0. 0. 0. 0. 0. 0. 0.]\n",
      " [0. 1. 0. 0. 0. 0. 0. 0.]\n",
      " [0. 0. 1. 0. 0. 0. 0. 0.]\n",
      " [0. 0. 0. 1. 0. 0. 0. 0.]\n",
      " [0. 0. 0. 0. 0. 1. 0. 0.]\n",
      " [0. 0. 0. 0. 1. 0. 0. 0.]\n",
      " [0. 0. 0. 0. 0. 0. 0. 1.]\n",
      " [0. 0. 0. 0. 0. 0. 1. 0.]]\n"
     ]
    }
   ],
   "source": [
    "P0x0 = np.array ([\n",
    "    [1,0],\n",
    "    [0,0]\n",
    "])\n",
    "\n",
    "P1x1 = np.array([\n",
    "[0, 0],\n",
    "[0, 1]\n",
    "])\n",
    "\n",
    "O = np.kron(np.kron(P0x0, I), I) + np.kron(np.kron(P1x1, I), X)\n",
    "\n",
    "print(O)"
   ]
  },
  {
   "cell_type": "code",
   "execution_count": 8,
   "metadata": {},
   "outputs": [
    {
     "name": "stdout",
     "output_type": "stream",
     "text": [
      "{0: 10, 1: 90}\n"
     ]
    }
   ],
   "source": [
    "from numpy.random import choice\n",
    "qbit = {\n",
    "    0: 0,\n",
    "    1: 0\n",
    "}\n",
    "for i in range(100):\n",
    "    draw = choice(2,1,p=[0.1,0.9])\n",
    "    if draw[0] == 0:\n",
    "        qbit[0]+=1\n",
    "    else:\n",
    "        qbit[1]+=1\n",
    "print(qbit)"
   ]
  },
  {
   "cell_type": "code",
   "execution_count": 24,
   "metadata": {},
   "outputs": [
    {
     "name": "stdout",
     "output_type": "stream",
     "text": [
      "('hadamard', 2, 2)\n",
      "Please enter valid number greater than 0\n"
     ]
    }
   ],
   "source": [
    "def get_ground_state(num_qubits):\n",
    "    # return vector of size 2**num_qubits with all zeroes except first element which is 1\n",
    "    if(num_qubits <=0):\n",
    "        return \"Please enter valid number greater than 0\"\n",
    "    q = [1,0]\n",
    "    for i in range(num_qubits-1):\n",
    "        q = np.kron(q,[1,0])\n",
    "    return q\n",
    "\n",
    "def get_operator(total_qubits, gate_unitary, target_qubits):\n",
    "    # return unitary operator of size 2**n x 2**n for given gate and target qubits\n",
    "    switcher_gate = {\n",
    "        \"x\": x_gate,\n",
    "        \"h\": hadamard_gate\n",
    "    }\n",
    "    gate_func = switcher_gate.get(gate_unitary, lambda: \"Invalid gate name\")\n",
    "    return gate_func(total_qubits, target_qubits)\n",
    "\n",
    "def hadamard_gate(total_qubits, target_qubits):\n",
    "    return (\"hadamard\",total_qubits, target_qubits)\n",
    "\n",
    "def x_gate(total_qubits, target_qubits):\n",
    "    X_operator, final_operator = np.array([\n",
    "        [0,1],\n",
    "        [1,0]\n",
    "    ])\n",
    "    \n",
    "    identity = np.identity(2)\n",
    "    \n",
    "    for i in range(total_qubits):\n",
    "        if target_qubits[0]==0:\n",
    "            final_operator = np.kron(X_operator, identity)\n",
    "        if i!=0 and i==target_qubits[0]:\n",
    "            final_operator = np.kron(identity,X_operator)\n",
    "        \n",
    "            \n",
    "    return \"x_gate\"\n",
    "\n",
    "print(get_operator(2,\"h\",2))\n",
    "\n",
    "def run_program(initial_state, program):\n",
    "    # read program, and for each gate:\n",
    "    #   - calculate matrix operator\n",
    "    #   - multiply state with operator\n",
    "    # return final state\n",
    "    return\n",
    "print(get_ground_state(-2))"
   ]
  },
  {
   "cell_type": "code",
   "execution_count": null,
   "metadata": {},
   "outputs": [],
   "source": []
  }
 ],
 "metadata": {
  "kernelspec": {
   "display_name": "Python 3",
   "language": "python",
   "name": "python3"
  },
  "language_info": {
   "codemirror_mode": {
    "name": "ipython",
    "version": 3
   },
   "file_extension": ".py",
   "mimetype": "text/x-python",
   "name": "python",
   "nbconvert_exporter": "python",
   "pygments_lexer": "ipython3",
   "version": "3.8.5"
  }
 },
 "nbformat": 4,
 "nbformat_minor": 4
}
